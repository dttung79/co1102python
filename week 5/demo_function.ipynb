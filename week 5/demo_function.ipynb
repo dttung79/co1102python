{
 "cells": [
  {
   "cell_type": "code",
   "execution_count": 6,
   "metadata": {},
   "outputs": [],
   "source": [
    "def say_hi(name):\n",
    "    print('Hello', name)\n",
    "    print('Python is easy!')"
   ]
  },
  {
   "cell_type": "code",
   "execution_count": 8,
   "metadata": {},
   "outputs": [
    {
     "name": "stdout",
     "output_type": "stream",
     "text": [
      "Hello John\n",
      "Python is easy!\n",
      "Hello Paul\n",
      "Python is easy!\n",
      "Hello Mike\n",
      "Python is easy!\n"
     ]
    }
   ],
   "source": [
    "say_hi('John')\n",
    "say_hi('Paul')\n",
    "name = input('Enter your name: ')\n",
    "say_hi(name)"
   ]
  },
  {
   "cell_type": "code",
   "execution_count": 11,
   "metadata": {},
   "outputs": [],
   "source": [
    "def print_triangle_numbers(n):\n",
    "    for i in range(1, n+1): \n",
    "        for j in range(i): \n",
    "            print(i, end=' ')\n",
    "        print()"
   ]
  },
  {
   "cell_type": "code",
   "execution_count": 16,
   "metadata": {},
   "outputs": [
    {
     "name": "stdout",
     "output_type": "stream",
     "text": [
      "1 \n",
      "2 2 \n",
      "3 3 3 \n",
      "4 4 4 4 \n"
     ]
    }
   ],
   "source": [
    "print_triangle_numbers(4)"
   ]
  },
  {
   "cell_type": "code",
   "execution_count": 13,
   "metadata": {},
   "outputs": [
    {
     "name": "stdout",
     "output_type": "stream",
     "text": [
      "1 \n",
      "2 2 \n",
      "3 3 3 \n",
      "4 4 4 4 \n",
      "5 5 5 5 5 \n",
      "6 6 6 6 6 6 \n",
      "7 7 7 7 7 7 7 \n",
      "8 8 8 8 8 8 8 8 \n"
     ]
    }
   ],
   "source": [
    "n = int(input('Enter a number: '))\n",
    "print_triangle_numbers(n)"
   ]
  },
  {
   "cell_type": "code",
   "execution_count": null,
   "metadata": {},
   "outputs": [],
   "source": [
    "# Write a function to solve a quadratic equation\n",
    "# ax^2 + bx + c = 0"
   ]
  },
  {
   "cell_type": "code",
   "execution_count": 17,
   "metadata": {},
   "outputs": [],
   "source": [
    "def solve_quadratic(a, b, c):\n",
    "    # check if a == 0\n",
    "    if a == 0:\n",
    "        print('Not a quadratic equation')\n",
    "        return\n",
    "    \n",
    "    # calculate delta\n",
    "    delta = b**2 - 4*a*c\n",
    "    # check delta (<0, ==0, >0)\n",
    "    if delta < 0:\n",
    "        print('No real roots')\n",
    "    elif delta == 0:\n",
    "        print('One real root', -b/(2*a))\n",
    "    else:\n",
    "        print('Two real roots', (-b-delta**0.5)/(2*a), (-b+delta**0.5)/(2*a))\n"
   ]
  },
  {
   "cell_type": "code",
   "execution_count": 20,
   "metadata": {},
   "outputs": [
    {
     "name": "stdout",
     "output_type": "stream",
     "text": [
      "Not a quadratic equation\n"
     ]
    }
   ],
   "source": [
    "a = float(input('Enter a: '))\n",
    "b = float(input('Enter b: '))\n",
    "c = float(input('Enter c: '))\n",
    "solve_quadratic(a, b, c)"
   ]
  },
  {
   "cell_type": "code",
   "execution_count": null,
   "metadata": {},
   "outputs": [],
   "source": [
    "# Write a function to draw a regular polygon.\n",
    "# The function should take 3 parameters:\n",
    "# - n_sides: number of sides (3-9)\n",
    "# - pen_size: pen size (1-10)\n",
    "# - color: color (red, green, blue, yellow, orange, purple, black, white)"
   ]
  },
  {
   "cell_type": "code",
   "execution_count": 21,
   "metadata": {},
   "outputs": [],
   "source": [
    "import turtle as t\n",
    "\n",
    "def draw_polygon(n_sides, pen_size, color):\n",
    "    t.pensize(pen_size)\n",
    "    t.color(color)\n",
    "\n",
    "    for i in range(n_sides):\n",
    "        t.forward(100)\n",
    "        t.left(360 / n_sides)"
   ]
  },
  {
   "cell_type": "code",
   "execution_count": null,
   "metadata": {},
   "outputs": [],
   "source": [
    "draw_polygon(3, 5, 'red')\n",
    "input()\n",
    "draw_polygon(4, 3, 'green')"
   ]
  },
  {
   "cell_type": "code",
   "execution_count": 1,
   "metadata": {},
   "outputs": [],
   "source": [
    "def find_max(a, b):\n",
    "    if a > b:\n",
    "        return a\n",
    "    else:\n",
    "        return b"
   ]
  },
  {
   "cell_type": "code",
   "execution_count": 5,
   "metadata": {},
   "outputs": [
    {
     "name": "stdout",
     "output_type": "stream",
     "text": [
      "50\n"
     ]
    }
   ],
   "source": [
    "m = find_max(30, 50)\n",
    "print(m)"
   ]
  },
  {
   "cell_type": "code",
   "execution_count": 6,
   "metadata": {},
   "outputs": [],
   "source": [
    "# Write 1 function calculate sum from 1 to n\n",
    "def sum_up(n):\n",
    "    s = 0\n",
    "    for i in range(1, n+1):\n",
    "        s += i\n",
    "    return s"
   ]
  },
  {
   "cell_type": "code",
   "execution_count": 8,
   "metadata": {},
   "outputs": [
    {
     "name": "stdout",
     "output_type": "stream",
     "text": [
      "Sum from 1 to 100 is 5050\n"
     ]
    }
   ],
   "source": [
    "n = 100\n",
    "print('Sum from 1 to', n, 'is', sum_up(n))"
   ]
  },
  {
   "cell_type": "code",
   "execution_count": 9,
   "metadata": {},
   "outputs": [],
   "source": [
    "# Write 1 function to calculate factorial of n\n",
    "def factorial(n):\n",
    "    p = 1\n",
    "    for i in range(1, n+1):\n",
    "        p *= i\n",
    "    return p"
   ]
  },
  {
   "cell_type": "code",
   "execution_count": 10,
   "metadata": {},
   "outputs": [
    {
     "name": "stdout",
     "output_type": "stream",
     "text": [
      "5! = 120\n"
     ]
    }
   ],
   "source": [
    "n = 5\n",
    "print(f'{n}! = {factorial(n)}')"
   ]
  },
  {
   "cell_type": "code",
   "execution_count": null,
   "metadata": {},
   "outputs": [],
   "source": [
    "# Write a function to calculate area of a triangle\n",
    "# If 3 sides are not valid, return -1\n",
    "# If 3 sides are valid return area based on Heron's formula"
   ]
  },
  {
   "cell_type": "code",
   "execution_count": 1,
   "metadata": {},
   "outputs": [],
   "source": [
    "def triangle_area(a, b, c):\n",
    "    if a <= 0 or b <= 0 or c <= 0:\n",
    "        return -1\n",
    "    if a + b <= c or a + c <= b or b + c <= a:\n",
    "        return -1\n",
    "    p = (a + b + c) / 2\n",
    "    s = (p * (p-a) * (p-b) * (p-c)) ** 0.5\n",
    "    return s"
   ]
  },
  {
   "cell_type": "code",
   "execution_count": 4,
   "metadata": {},
   "outputs": [
    {
     "name": "stdout",
     "output_type": "stream",
     "text": [
      "-1\n"
     ]
    }
   ],
   "source": [
    "s = triangle_area(3, 40, 5)\n",
    "print(s)"
   ]
  }
 ],
 "metadata": {
  "kernelspec": {
   "display_name": "Python 3.9.12 64-bit",
   "language": "python",
   "name": "python3"
  },
  "language_info": {
   "codemirror_mode": {
    "name": "ipython",
    "version": 3
   },
   "file_extension": ".py",
   "mimetype": "text/x-python",
   "name": "python",
   "nbconvert_exporter": "python",
   "pygments_lexer": "ipython3",
   "version": "3.9.12"
  },
  "orig_nbformat": 4,
  "vscode": {
   "interpreter": {
    "hash": "aee8b7b246df8f9039afb4144a1f6fd8d2ca17a180786b69acc140d282b71a49"
   }
  }
 },
 "nbformat": 4,
 "nbformat_minor": 2
}
