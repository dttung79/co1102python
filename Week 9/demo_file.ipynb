{
 "cells": [
  {
   "cell_type": "code",
   "execution_count": 13,
   "metadata": {},
   "outputs": [
    {
     "name": "stdout",
     "output_type": "stream",
     "text": [
      "<class 'str'>\n",
      "Welcome all programming languages\n",
      "Hello Python\n",
      "Hello Java\n",
      "Hello C++\n",
      "\n"
     ]
    }
   ],
   "source": [
    "f = open('hello.txt', 'r')\n",
    "contents = f.read()\n",
    "print(type(contents))\n",
    "print(contents)\n",
    "\n",
    "f.close()"
   ]
  },
  {
   "cell_type": "code",
   "execution_count": 14,
   "metadata": {},
   "outputs": [
    {
     "name": "stdout",
     "output_type": "stream",
     "text": [
      "<class 'str'>\n",
      "Welcome all programming languages\n",
      "Hello Python\n",
      "Hello Java\n",
      "Hello C++\n",
      "\n"
     ]
    }
   ],
   "source": [
    "with open('hello.txt', 'r') as f:\n",
    "    contents = f.read()\n",
    "    print(type(contents))\n",
    "    print(contents)"
   ]
  },
  {
   "cell_type": "code",
   "execution_count": 20,
   "metadata": {},
   "outputs": [
    {
     "name": "stdout",
     "output_type": "stream",
     "text": [
      "<class 'list'>\n",
      "Python\n",
      "Java\n",
      "C++\n"
     ]
    }
   ],
   "source": [
    "# read all contents to a list of lines\n",
    "try:\n",
    "    f = open('hello.txt', 'r')\n",
    "    contents = f.readlines()\n",
    "    contents = contents[1:] # remove the first line\n",
    "    print(type(contents))\n",
    "    for line in contents:\n",
    "        #print(line[:-1])  # remove the newline character\n",
    "        words = line.split()\n",
    "        print(words[1])\n",
    "except FileNotFoundError:\n",
    "    print('File not found')"
   ]
  },
  {
   "cell_type": "code",
   "execution_count": 26,
   "metadata": {},
   "outputs": [
    {
     "name": "stdout",
     "output_type": "stream",
     "text": [
      "b cannot be zero\n"
     ]
    }
   ],
   "source": [
    "try:\n",
    "    a = int(input('Enter a: '))\n",
    "    b = int(input('Enter b: '))\n",
    "    c = a / b\n",
    "    print(c)\n",
    "except ZeroDivisionError:\n",
    "    print('b cannot be zero')"
   ]
  },
  {
   "cell_type": "code",
   "execution_count": 30,
   "metadata": {},
   "outputs": [],
   "source": [
    "# Recursive function: is a function that call itself\n",
    "def factorial(n):\n",
    "    if n == 0:\n",
    "        return 1\n",
    "    return factorial(n-1) * n"
   ]
  },
  {
   "cell_type": "code",
   "execution_count": 32,
   "metadata": {},
   "outputs": [
    {
     "name": "stdout",
     "output_type": "stream",
     "text": [
      "0! = 1\n",
      "1! = 1\n",
      "2! = 2\n",
      "3! = 6\n",
      "4! = 24\n",
      "5! = 120\n",
      "6! = 720\n",
      "7! = 5040\n",
      "8! = 40320\n",
      "9! = 362880\n"
     ]
    }
   ],
   "source": [
    "for i in range(10):\n",
    "    print(f'{i}! = {factorial(i)}')"
   ]
  },
  {
   "cell_type": "code",
   "execution_count": 37,
   "metadata": {},
   "outputs": [],
   "source": [
    "# Write fibonacci function\n",
    "def fibonacci(n):\n",
    "    if n == 0 or n == 1:\n",
    "        return n\n",
    "    return fibonacci(n-1) + fibonacci(n-2)"
   ]
  },
  {
   "cell_type": "code",
   "execution_count": 38,
   "metadata": {},
   "outputs": [
    {
     "ename": "ValueError",
     "evalue": "invalid literal for int() with base 10: ''",
     "output_type": "error",
     "traceback": [
      "\u001b[0;31m---------------------------------------------------------------------------\u001b[0m",
      "\u001b[0;31mValueError\u001b[0m                                Traceback (most recent call last)",
      "\u001b[1;32m/Volumes/GoogleDrive/My Drive/FPTU/Program 3+0/COMP1753/CO1102/CodeExamples/Week 9/demo_file.ipynb Cell 8\u001b[0m in \u001b[0;36m<cell line: 1>\u001b[0;34m()\u001b[0m\n\u001b[0;32m----> <a href='vscode-notebook-cell:/Volumes/GoogleDrive/My%20Drive/FPTU/Program%203%2B0/COMP1753/CO1102/CodeExamples/Week%209/demo_file.ipynb#X10sZmlsZQ%3D%3D?line=0'>1</a>\u001b[0m n \u001b[39m=\u001b[39m \u001b[39mint\u001b[39;49m(\u001b[39minput\u001b[39;49m(\u001b[39m'\u001b[39;49m\u001b[39mEnter n: \u001b[39;49m\u001b[39m'\u001b[39;49m))\n\u001b[1;32m      <a href='vscode-notebook-cell:/Volumes/GoogleDrive/My%20Drive/FPTU/Program%203%2B0/COMP1753/CO1102/CodeExamples/Week%209/demo_file.ipynb#X10sZmlsZQ%3D%3D?line=1'>2</a>\u001b[0m \u001b[39mprint\u001b[39m(\u001b[39mf\u001b[39m\u001b[39m'\u001b[39m\u001b[39mFib(\u001b[39m\u001b[39m{\u001b[39;00mn\u001b[39m}\u001b[39;00m\u001b[39m) = \u001b[39m\u001b[39m{\u001b[39;00mfibonacci(n)\u001b[39m}\u001b[39;00m\u001b[39m'\u001b[39m)\n",
      "\u001b[0;31mValueError\u001b[0m: invalid literal for int() with base 10: ''"
     ]
    }
   ],
   "source": [
    "n = int(input('Enter n: '))\n",
    "print(f'Fib({n}) = {fibonacci(n)}')"
   ]
  },
  {
   "cell_type": "code",
   "execution_count": 8,
   "metadata": {},
   "outputs": [
    {
     "name": "stdout",
     "output_type": "stream",
     "text": [
      "The Triboro Bridge and Tunnel Authority\n",
      "The Metropolitan Transit Authority\n",
      "The Port Authority of New York and New Jersey\n"
     ]
    }
   ],
   "source": [
    "# Ex1: Read agencies.txt, print agency name that has 'Authority'\n",
    "try:\n",
    "    fr = open('agencies.txt', 'r')\n",
    "    fw = open('agencies_authority.txt', 'w')\n",
    "\n",
    "    contents = fr.readlines()\n",
    "\n",
    "    for line in contents:\n",
    "        if 'Authority' in line:\n",
    "            print(line[:-1])\n",
    "            fw.write(line)\n",
    "    fw.close()\n",
    "    fr.close()\n",
    "except FileNotFoundError:\n",
    "    print('File not found')"
   ]
  },
  {
   "cell_type": "code",
   "execution_count": 10,
   "metadata": {},
   "outputs": [
    {
     "name": "stdout",
     "output_type": "stream",
     "text": [
      "Writing completed\n"
     ]
    }
   ],
   "source": [
    "# Ex2: Read authors.txt, print name & email\n",
    "try:\n",
    "    f = open('authors.txt', 'r')\n",
    "    fw = open('authors_email.txt', 'w')\n",
    "    contents = f.readlines()\n",
    "    for line in contents[3:]:\n",
    "        words = line.split('<')\n",
    "        #print(f'{words[0][:-1]:25s}: {words[1][:-2]}')\n",
    "        fw.write(f'{words[0][:-1]:25s}: {words[1][:-2]}\\n')\n",
    "    \n",
    "    f.close()\n",
    "    fw.close()\n",
    "    print('Writing completed')\n",
    "except FileNotFoundError:\n",
    "    print('File not found')\n",
    "except IndexError:\n",
    "    print('Error at line: ', line)"
   ]
  },
  {
   "cell_type": "code",
   "execution_count": null,
   "metadata": {},
   "outputs": [],
   "source": []
  }
 ],
 "metadata": {
  "kernelspec": {
   "display_name": "Python 3.9.12 64-bit",
   "language": "python",
   "name": "python3"
  },
  "language_info": {
   "codemirror_mode": {
    "name": "ipython",
    "version": 3
   },
   "file_extension": ".py",
   "mimetype": "text/x-python",
   "name": "python",
   "nbconvert_exporter": "python",
   "pygments_lexer": "ipython3",
   "version": "3.9.12"
  },
  "orig_nbformat": 4,
  "vscode": {
   "interpreter": {
    "hash": "aee8b7b246df8f9039afb4144a1f6fd8d2ca17a180786b69acc140d282b71a49"
   }
  }
 },
 "nbformat": 4,
 "nbformat_minor": 2
}
