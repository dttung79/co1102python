{
 "cells": [
  {
   "cell_type": "code",
   "execution_count": null,
   "metadata": {},
   "outputs": [],
   "source": [
    "# declare an empty list\n",
    "a = []\n",
    "# declare a list with 3 empty elements\n",
    "b = [None] * 3\n",
    "# declare a list with 3 elements\n",
    "c = [1, 2, 3]\n",
    "print(a)\n",
    "print(b)\n",
    "print(c)\n"
   ]
  },
  {
   "cell_type": "code",
   "execution_count": null,
   "metadata": {},
   "outputs": [],
   "source": [
    "c[0] = 100 # indext starts from 0\n",
    "print(c)\n",
    "print(c[1]) # access the second element\n"
   ]
  },
  {
   "cell_type": "code",
   "execution_count": null,
   "metadata": {},
   "outputs": [],
   "source": [
    "a = [1, 2, 3, 4, 5]\n",
    "# access the last element using both positive and negative index\n",
    "print(a[4], a[-1]) # negative index starts from -1\n",
    "print(a[0], a[-5])\n"
   ]
  },
  {
   "cell_type": "code",
   "execution_count": 8,
   "metadata": {},
   "outputs": [
    {
     "name": "stdout",
     "output_type": "stream",
     "text": [
      "1 Alice\n",
      "2 Bob\n",
      "3 Cindy\n",
      "4 David\n"
     ]
    }
   ],
   "source": [
    "names = ['Alice', 'Bob', 'Cindy', 'David']\n",
    "for i in range(len(names)): # loop through list with indexes\n",
    "    print(i+1, names[i])"
   ]
  },
  {
   "cell_type": "code",
   "execution_count": 9,
   "metadata": {},
   "outputs": [
    {
     "name": "stdout",
     "output_type": "stream",
     "text": [
      "Alice\n",
      "Bob\n",
      "Cindy\n",
      "David\n"
     ]
    }
   ],
   "source": [
    "for n in names: # loop through list without indexes\n",
    "    print(n)"
   ]
  },
  {
   "cell_type": "code",
   "execution_count": 11,
   "metadata": {},
   "outputs": [
    {
     "name": "stdout",
     "output_type": "stream",
     "text": [
      "90 85 100 95 80 \n",
      "90 85 100 95 80 "
     ]
    }
   ],
   "source": [
    "grades = [90, 85, 70, 65, 100, 95, 80, 75]\n",
    "# print grades that are >= 80\n",
    "# loop using index\n",
    "for i in range(len(grades)):\n",
    "    if grades[i] >= 80:\n",
    "        print(grades[i], end=' ')\n",
    "# loop without index\n",
    "print()\n",
    "for g in grades:\n",
    "    if g >= 80:\n",
    "        print(g, end=' ')"
   ]
  },
  {
   "cell_type": "code",
   "execution_count": null,
   "metadata": {},
   "outputs": [],
   "source": [
    "products = ['Pen', 'Pencil', 'Notebook', 'Stapler', 'Eraser']\n",
    "prices = [1.5, 1.0, 2.0, 3.0, 0.5]\n",
    "solds = [100, 200, 300, 400, 500]\n",
    "# print products with total sales of each product and total sales of all products"
   ]
  },
  {
   "cell_type": "code",
   "execution_count": null,
   "metadata": {},
   "outputs": [],
   "source": [
    "aaa"
   ]
  },
  {
   "cell_type": "code",
   "execution_count": null,
   "metadata": {},
   "outputs": [],
   "source": [
    "products = ['Pen', 'Pencil', 'Notebook', 'Stapler', 'Eraser']\n",
    "prices = [1.5, 1.0, 2.0, 3.0, 0.5]\n",
    "solds = [150, 70, 50, 120, 210]"
   ]
  },
  {
   "cell_type": "code",
   "execution_count": null,
   "metadata": {},
   "outputs": [],
   "source": [
    "# TODO: Print products with total sales of each product and total sales of all products\n"
   ]
  },
  {
   "cell_type": "code",
   "execution_count": null,
   "metadata": {},
   "outputs": [],
   "source": [
    "products = ['Pen', 'Pencil', 'Notebook', 'Stapler', 'Eraser']\n",
    "prices = [1.5, 1.0, 2.0, 3.0, 0.5]\n",
    "solds = [100, 200, 300, 400, 500]"
   ]
  },
  {
   "cell_type": "code",
   "execution_count": null,
   "metadata": {},
   "outputs": [],
   "source": [
    "# TODO: print students having grades = 100\n",
    "for i in range(len(grades)):\n",
    "    if grades[i] == 100:\n",
    "        print(f'{names[i]:<7s}: {grades[i]:>4d}')"
   ]
  },
  {
   "cell_type": "code",
   "execution_count": null,
   "metadata": {},
   "outputs": [],
   "source": [
    "# TODO: Count how many students have grades >= 80\n",
    "count = 0\n"
   ]
  },
  {
   "cell_type": "code",
   "execution_count": 16,
   "metadata": {},
   "outputs": [
    {
     "name": "stdout",
     "output_type": "stream",
     "text": [
      "Alice  :  100\n",
      "Bob    :   85\n",
      "Cindy  :   70\n",
      "Eve    :  100\n",
      "Frank  :   95\n",
      "Grace  :   80\n",
      "Helen  :   75\n"
     ]
    }
   ],
   "source": [
    "names = ['Alice', 'Bob', 'Cindy', 'David', 'Eve', 'Frank', 'Grace', 'Helen']\n",
    "grades = [100, 85, 70, 65, 100, 95, 80, 75]\n",
    "# print students having grades >= 70\n",
    "for i in range(len(grades)):\n",
    "    if grades[i] >= 70:\n",
    "        print(f'{names[i]:<7s}: {grades[i]:>4d}')"
   ]
  },
  {
   "cell_type": "code",
   "execution_count": 22,
   "metadata": {},
   "outputs": [
    {
     "name": "stdout",
     "output_type": "stream",
     "text": [
      "Pen        : $150.00\n",
      "Pencil     : $200.00\n",
      "Notebook   : $600.00\n",
      "Stapler    : $1200.00\n",
      "Eraser     : $250.00\n",
      "Total sales: $2400.00\n"
     ]
    }
   ],
   "source": [
    "products = ['Pen', 'Pencil', 'Notebook', 'Stapler', 'Eraser']\n",
    "prices = [1.5, 1.0, 2.0, 3.0, 0.5]\n",
    "solds = [100, 200, 300, 400, 500]\n",
    "total_sales = 0\n",
    "for i in range(len(products)):\n",
    "    sales = prices[i] * solds[i]\n",
    "    total_sales += sales\n",
    "    print(f'{products[i]:<11s}: ${sales:<6.2f}')\n",
    "\n",
    "print(f'Total sales: ${total_sales:<6.2f}')"
   ]
  },
  {
   "cell_type": "code",
   "execution_count": 24,
   "metadata": {},
   "outputs": [
    {
     "name": "stdout",
     "output_type": "stream",
     "text": [
      "X-men          : $2050.00\n",
      "Avengers       : $2820.00\n",
      "Ironman        : $1710.00\n",
      "Captain America: $2420.00\n"
     ]
    }
   ],
   "source": [
    "movies = ['X-men', 'Avengers', 'Spiderman', 'Ironman', 'Captain America']\n",
    "adult_prices = [10.0, 12.0, 8.0, 9.0, 11.0]\n",
    "child_prices = [5.0, 6.0, 4.0, 4.5, 5.5]\n",
    "adult_tickets = [100, 120, 80, 90, 110]\n",
    "child_tickets = [210, 230, 190, 200, 220]\n",
    "\n",
    "# TODO: print movies that has total sales >= 1500\n",
    "for i in range(len(movies)):\n",
    "    sales = adult_prices[i] * adult_tickets[i] + child_prices[i] * child_tickets[i]\n",
    "    if sales >= 1500:\n",
    "        print(f'{movies[i]:<15s}: ${sales:<6.2f}')"
   ]
  },
  {
   "cell_type": "code",
   "execution_count": null,
   "metadata": {},
   "outputs": [],
   "source": [
    "# List methods:\n",
    "# sort(): sort a list in ascending order or descending order\n",
    "# reverse(): reverse a list\n",
    "# clear(): remove all elements from a list\n",
    "# append(): add an element to the end of a list\n",
    "# insert(): insert an element to a list at a given index\n",
    "# remove(): remove the first element with a given value"
   ]
  },
  {
   "cell_type": "code",
   "execution_count": 30,
   "metadata": {},
   "outputs": [
    {
     "name": "stdout",
     "output_type": "stream",
     "text": [
      "['Apple', 'Banana', 'Grape', 'Orange', 'Pear']\n",
      "['Pear', 'Orange', 'Grape', 'Banana', 'Apple']\n"
     ]
    }
   ],
   "source": [
    "fruits = ['Apple', 'Orange', 'Banana', 'Pear', 'Grape']\n",
    "fruits.sort()\n",
    "print(fruits)\n",
    "fruits.sort(reverse=True)\n",
    "print(fruits)\n"
   ]
  },
  {
   "cell_type": "code",
   "execution_count": 31,
   "metadata": {},
   "outputs": [
    {
     "name": "stdout",
     "output_type": "stream",
     "text": [
      "['Apple', 'Banana', 'Grape', 'Orange', 'Pear']\n"
     ]
    }
   ],
   "source": [
    "fruits.reverse()\n",
    "print(fruits)\n"
   ]
  },
  {
   "cell_type": "code",
   "execution_count": 32,
   "metadata": {},
   "outputs": [
    {
     "name": "stdout",
     "output_type": "stream",
     "text": [
      "['Apple', 'Banana', 'Grape', 'Orange', 'Pear', 'Kiwi', 'Mango']\n"
     ]
    }
   ],
   "source": [
    "fruits.append('Kiwi')\n",
    "fruits.append('Mango')\n",
    "print(fruits)"
   ]
  },
  {
   "cell_type": "code",
   "execution_count": 33,
   "metadata": {},
   "outputs": [
    {
     "name": "stdout",
     "output_type": "stream",
     "text": [
      "['Apple', 'Banana', 'Peach', 'Grape', 'Orange', 'Pear', 'Kiwi', 'Mango']\n"
     ]
    }
   ],
   "source": [
    "fruits.insert(2, 'Peach')\n",
    "print(fruits)"
   ]
  },
  {
   "cell_type": "code",
   "execution_count": 34,
   "metadata": {},
   "outputs": [
    {
     "name": "stdout",
     "output_type": "stream",
     "text": [
      "['Apple', 'Peach', 'Grape', 'Orange', 'Pear', 'Kiwi', 'Mango']\n"
     ]
    }
   ],
   "source": [
    "fruits.remove('Banana')\n",
    "print(fruits)"
   ]
  },
  {
   "cell_type": "code",
   "execution_count": null,
   "metadata": {},
   "outputs": [],
   "source": [
    "# Buitl-in functions for list (or other collections)\n",
    "# len(): return the length of a list\n",
    "# max(): return the maximum value in a list\n",
    "# min(): return the minimum value in a list\n",
    "# sum(): return the sum of all values in a list of numbers"
   ]
  },
  {
   "cell_type": "code",
   "execution_count": 2,
   "metadata": {},
   "outputs": [
    {
     "name": "stdout",
     "output_type": "stream",
     "text": [
      "[62, 3, 7, 49, 67, 84, 92, 61, 44, 59]\n",
      "Length of the list: 10\n",
      "Maximum value: 92\n",
      "Minimum value: 3\n",
      "Sum of all values: 528\n"
     ]
    }
   ],
   "source": [
    "# generate a list of random numbers\n",
    "import random as rd\n",
    "numbers = rd.sample(range(100), 10)\n",
    "print(numbers)\n",
    "print('Length of the list:', len(numbers))\n",
    "print('Maximum value:', max(numbers))\n",
    "print('Minimum value:', min(numbers))\n",
    "print('Sum of all values:', sum(numbers))"
   ]
  },
  {
   "cell_type": "code",
   "execution_count": 4,
   "metadata": {},
   "outputs": [
    {
     "name": "stdout",
     "output_type": "stream",
     "text": [
      "Maximum value: 92\n",
      "Minimum value: 3\n"
     ]
    }
   ],
   "source": [
    "# find max in numbers using for loop\n",
    "max_value = numbers[0]\n",
    "for n in numbers:\n",
    "    if n > max_value:\n",
    "        max_value = n\n",
    "print('Maximum value:', max_value)\n",
    "min_value = numbers[0]\n",
    "for n in numbers:\n",
    "    if n < min_value:\n",
    "        min_value = n\n",
    "print('Minimum value:', min_value)"
   ]
  },
  {
   "cell_type": "code",
   "execution_count": 5,
   "metadata": {},
   "outputs": [
    {
     "name": "stdout",
     "output_type": "stream",
     "text": [
      "[-91, 73, 95, 62, 65, -33, 2, -46, -54, -60, -3, 26, -28, -23, 87, 22, 8, -88, -17, -44]\n"
     ]
    }
   ],
   "source": [
    "# Slicing: get a sub-list from a list\n",
    "numbers = rd.sample(range(-100, 100), 20)\n",
    "print(numbers)"
   ]
  },
  {
   "cell_type": "code",
   "execution_count": 6,
   "metadata": {},
   "outputs": [
    {
     "name": "stdout",
     "output_type": "stream",
     "text": [
      "[62, 65, -33, 2]\n"
     ]
    }
   ],
   "source": [
    "print(numbers[3:7]) # get a sub-list from index 3 to 6"
   ]
  },
  {
   "cell_type": "code",
   "execution_count": 7,
   "metadata": {},
   "outputs": [
    {
     "name": "stdout",
     "output_type": "stream",
     "text": [
      "[-91, 73, 95, 62, 65]\n",
      "[22, 8, -88, -17, -44]\n"
     ]
    }
   ],
   "source": [
    "# print the first 5 elements\n",
    "print(numbers[:5])\n",
    "# print the last 5 elements\n",
    "print(numbers[-5:])"
   ]
  },
  {
   "cell_type": "code",
   "execution_count": 8,
   "metadata": {},
   "outputs": [
    {
     "name": "stdout",
     "output_type": "stream",
     "text": [
      "[-91, 73, 95, 62, 65, -33, 2, -46, -54, -60, -3, 26, -28, -23, 87, 22, 8, -88, -17, -44]\n",
      "[-91, 95, 65, 2, -54, -3, -28, 87, 8, -17]\n"
     ]
    }
   ],
   "source": [
    "print(numbers)\n",
    "print(numbers[::2]) # get every 2nd element"
   ]
  },
  {
   "cell_type": "code",
   "execution_count": 9,
   "metadata": {},
   "outputs": [
    {
     "name": "stdout",
     "output_type": "stream",
     "text": [
      "[73, 62, -33, -46, -60, 26, -23, 22, -88, -44]\n"
     ]
    }
   ],
   "source": [
    "print(numbers[1::2]) # get every 2nd element starting from index 1"
   ]
  },
  {
   "cell_type": "code",
   "execution_count": 10,
   "metadata": {},
   "outputs": [
    {
     "name": "stdout",
     "output_type": "stream",
     "text": [
      "[-44, -17, -88, 8, 22, 87, -23, -28, 26, -3, -60, -54, -46, 2, -33, 65, 62, 95, 73, -91]\n"
     ]
    }
   ],
   "source": [
    "print(numbers[::-1]) # reverse a list"
   ]
  },
  {
   "cell_type": "code",
   "execution_count": 11,
   "metadata": {},
   "outputs": [
    {
     "name": "stdout",
     "output_type": "stream",
     "text": [
      "[-91, 73, 95, 62, 65, -33, 2, -46, -54, -60, -3, 26, -28, -23, 87, 22, 8, -88, -17, -44]\n",
      "[-91, 73, 95, 62, 65, -33, 2, -46, -54, -60, -3, 26, -28, -23, 87, 22, 8, -88, -17, -44]\n",
      "[-44, -17, -88, 8, 22, 87, -23, -28, 26, -3, -60, -54, -46, 2, -33, 65, 62, 95, 73, -91]\n"
     ]
    }
   ],
   "source": [
    "print(numbers)\n",
    "reversed_numbers = numbers[::-1]\n",
    "print(numbers)\n",
    "print(reversed_numbers)"
   ]
  },
  {
   "cell_type": "code",
   "execution_count": 12,
   "metadata": {},
   "outputs": [
    {
     "name": "stdout",
     "output_type": "stream",
     "text": [
      "[1, 2, 3, 4, 5]\n",
      "[1, 2, 3, 4, 5]\n",
      "[1, 2, 3, 4, 5]\n"
     ]
    }
   ],
   "source": [
    "# different between copy and reference\n",
    "a = [1, 2, 3, 4, 5]\n",
    "b = a      # b is a reference to a\n",
    "c = a[::]  # c is a copy of a\n",
    "print(a, b, c, sep='\\n')"
   ]
  },
  {
   "cell_type": "code",
   "execution_count": 13,
   "metadata": {},
   "outputs": [
    {
     "name": "stdout",
     "output_type": "stream",
     "text": [
      "[100, 2, 3, 4, 5]\n",
      "[100, 2, 3, 4, 5]\n",
      "[1, 2, 3, 4, 5]\n"
     ]
    }
   ],
   "source": [
    "a[0] = 100\n",
    "print(a, b, c, sep='\\n')"
   ]
  }
 ],
 "metadata": {
  "kernelspec": {
   "display_name": "Python 3.9.12 64-bit",
   "language": "python",
   "name": "python3"
  },
  "language_info": {
   "codemirror_mode": {
    "name": "ipython",
    "version": 3
   },
   "file_extension": ".py",
   "mimetype": "text/x-python",
   "name": "python",
   "nbconvert_exporter": "python",
   "pygments_lexer": "ipython3",
   "version": "3.9.12"
  },
  "orig_nbformat": 4,
  "vscode": {
   "interpreter": {
    "hash": "aee8b7b246df8f9039afb4144a1f6fd8d2ca17a180786b69acc140d282b71a49"
   }
  }
 },
 "nbformat": 4,
 "nbformat_minor": 2
}
