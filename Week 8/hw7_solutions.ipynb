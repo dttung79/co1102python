{
 "cells": [
  {
   "cell_type": "code",
   "execution_count": 2,
   "metadata": {},
   "outputs": [],
   "source": [
    "# Give shool years & corresponding number of students\n",
    "school_years = [2010, 2011, 2012, 2013, 2014, 2015, 2016, 2017, 2018, 2019]\n",
    "total_students = [3115, 3420, 3287, 2998, 3514, 3184, 3337, 3409, 3240, 3451]"
   ]
  },
  {
   "cell_type": "code",
   "execution_count": 4,
   "metadata": {},
   "outputs": [
    {
     "name": "stdout",
     "output_type": "stream",
     "text": [
      "Sum of enrolled students in odd years is 16462\n",
      "Sum of enrolled students in odd years is 16462\n"
     ]
    }
   ],
   "source": [
    "# Ex1.1: Calculte the sum of total number of students in odd years\n",
    "n = len(school_years)\n",
    "odd_sum = 0\n",
    "for i in range(1, n, 2):\n",
    "    odd_sum += total_students[i]\n",
    "print('Sum of enrolled students in odd years is', odd_sum)\n",
    "\n",
    "odd_enrolls = total_students[1::2]\n",
    "print('Sum of enrolled students in odd years is', sum(odd_enrolls))\n",
    "# Ex1.2: Calculte the sum of total number of students in even years"
   ]
  },
  {
   "cell_type": "code",
   "execution_count": 5,
   "metadata": {},
   "outputs": [
    {
     "name": "stdout",
     "output_type": "stream",
     "text": [
      "2014\n"
     ]
    }
   ],
   "source": [
    "# Ex2.1: Find the year when there are the most students enrolled\n",
    "max_enrolled = max(total_students)\n",
    "max_year = school_years[total_students.index(max_enrolled)]\n",
    "print(max_year)\n",
    "# Ex2.2: Find the year when there are the least students enrolled"
   ]
  },
  {
   "cell_type": "code",
   "execution_count": 11,
   "metadata": {},
   "outputs": [
    {
     "name": "stdout",
     "output_type": "stream",
     "text": [
      "[2011, 2014, 2016, 2017, 2019]\n"
     ]
    }
   ],
   "source": [
    "# Ex3: Calculate the average number of students and find years \n",
    "# when the number of students is above the average\n",
    "avg = sum(total_students) / len(total_students)\n",
    "big_enrolls = [school_years[i] for i in range(n) if total_students[i] > avg]\n",
    "print(big_enrolls)"
   ]
  },
  {
   "cell_type": "code",
   "execution_count": 6,
   "metadata": {},
   "outputs": [
    {
     "name": "stdout",
     "output_type": "stream",
     "text": [
      "2014 has 3514 students enrolled\n"
     ]
    }
   ],
   "source": [
    "# Ex4: User enters a year, find the number of students in that year\n",
    "# If the year is not in the list, print \"No data\"\n",
    "year = int(input('Enter a year: '))\n",
    "if year not in school_years:\n",
    "    print('No data')\n",
    "else:\n",
    "    print(f'{year} has {total_students[school_years.index(year)]} students enrolled')"
   ]
  },
  {
   "cell_type": "code",
   "execution_count": 13,
   "metadata": {},
   "outputs": [
    {
     "name": "stdout",
     "output_type": "stream",
     "text": [
      "5 years increase\n",
      "4 years decrease\n"
     ]
    }
   ],
   "source": [
    "# Ex5: Count how many times the number of students increases from one year to the next\n",
    "# and how many times it decreases. \n",
    "# For example, from 2010 to 2011, the number of students increases\n",
    "# and from 2011 to 2012, the number of students decreases.\n",
    "increase_years = [school_years[i] for i in range(1, n) if total_students[i] > total_students[i-1]]\n",
    "print(len(increase_years), 'years increase')\n",
    "decrease_years = [school_years[i] for i in range(1, n) if total_students[i] < total_students[i-1]]\n",
    "print(len(decrease_years), 'years decrease')"
   ]
  },
  {
   "cell_type": "code",
   "execution_count": null,
   "metadata": {},
   "outputs": [],
   "source": [
    "# List comprehension general syntax: [x for y in z if condition]"
   ]
  },
  {
   "cell_type": "code",
   "execution_count": 8,
   "metadata": {},
   "outputs": [
    {
     "name": "stdout",
     "output_type": "stream",
     "text": [
      "[13, 12, 15]\n"
     ]
    }
   ],
   "source": [
    "names = ['Barrack Obama', 'Donald Trump', 'Joe Biden', 'Hillary Clinton']\n",
    "lengths = [len(name) for name in names if len(name) > 10]\n",
    "print(lengths)"
   ]
  },
  {
   "cell_type": "code",
   "execution_count": 10,
   "metadata": {},
   "outputs": [
    {
     "name": "stdout",
     "output_type": "stream",
     "text": [
      "[75, 20, 48, 78, 43, 74, 22, 95, 100, 60]\n",
      "[20, 48, 78, 74, 22, 100, 60]\n"
     ]
    }
   ],
   "source": [
    "import random as rd\n",
    "numbers = [rd.randint(1, 100) for i in range(10)]\n",
    "print(numbers)\n",
    "evens = [n for n in numbers if n % 2 == 0]\n",
    "print(evens)"
   ]
  }
 ],
 "metadata": {
  "kernelspec": {
   "display_name": "Python 3.9.12 64-bit",
   "language": "python",
   "name": "python3"
  },
  "language_info": {
   "codemirror_mode": {
    "name": "ipython",
    "version": 3
   },
   "file_extension": ".py",
   "mimetype": "text/x-python",
   "name": "python",
   "nbconvert_exporter": "python",
   "pygments_lexer": "ipython3",
   "version": "3.9.12"
  },
  "orig_nbformat": 4,
  "vscode": {
   "interpreter": {
    "hash": "aee8b7b246df8f9039afb4144a1f6fd8d2ca17a180786b69acc140d282b71a49"
   }
  }
 },
 "nbformat": 4,
 "nbformat_minor": 2
}
