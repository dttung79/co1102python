{
 "cells": [
  {
   "cell_type": "code",
   "execution_count": 1,
   "metadata": {},
   "outputs": [
    {
     "name": "stdout",
     "output_type": "stream",
     "text": [
      "PI =     3.14\n",
      "PI = 3.14e+00\n"
     ]
    }
   ],
   "source": [
    "PI = 3.141592653589793\n",
    "print(f'PI = {PI:8.2f}') # format PI to 8 characters, 2 decimal places\n",
    "print(f'PI = {PI:8.2e}') # format PI to 8 characters, 2 decimal places, scientific notation"
   ]
  },
  {
   "cell_type": "code",
   "execution_count": 3,
   "metadata": {},
   "outputs": [
    {
     "name": "stdout",
     "output_type": "stream",
     "text": [
      "x = 1.2346e+03\n"
     ]
    }
   ],
   "source": [
    "x = 1234.56789\n",
    "print(f'x = {x:8.4e}') # format x to 8 characters, 4 decimal places, scientific notation"
   ]
  },
  {
   "cell_type": "code",
   "execution_count": 4,
   "metadata": {},
   "outputs": [
    {
     "name": "stdout",
     "output_type": "stream",
     "text": [
      "x = 1.23e-04\n"
     ]
    }
   ],
   "source": [
    "x = 0.0001234\n",
    "print(f'x = {x:8.2e}') # format x to 8 characters, 2 decimal places, scientific notation"
   ]
  },
  {
   "cell_type": "code",
   "execution_count": 11,
   "metadata": {},
   "outputs": [
    {
     "name": "stdout",
     "output_type": "stream",
     "text": [
      "PI = |        314.16%|\n"
     ]
    }
   ],
   "source": [
    "# format PI to 15 characters, 2 decimal places, percent notation, right justified\n",
    "print(f'PI = |{PI:>15.2%}|') "
   ]
  },
  {
   "cell_type": "code",
   "execution_count": 15,
   "metadata": {},
   "outputs": [
    {
     "name": "stdout",
     "output_type": "stream",
     "text": [
      "HELLO PYTHON\n",
      "Hello Python\n",
      "HELLo PYTHOn\n"
     ]
    }
   ],
   "source": [
    "s = 'hellO pythoN'\n",
    "print(s.upper())        # convert s to upper case\n",
    "print(s.title())        # convert s to title case\n",
    "print(s.swapcase())     # swap upper and lower case"
   ]
  },
  {
   "cell_type": "code",
   "execution_count": 19,
   "metadata": {},
   "outputs": [
    {
     "name": "stdout",
     "output_type": "stream",
     "text": [
      "|hello python          |\n",
      "|     hello python|\n",
      "|hello python|\n"
     ]
    }
   ],
   "source": [
    "s = '     hello python          '\n",
    "print(f'|{s.lstrip()}|') # remove leading whitespace\n",
    "print(f'|{s.rstrip()}|') # remove trailing whitespace\n",
    "print(f'|{s.strip()}|')  # remove leading and trailing whitespace"
   ]
  },
  {
   "cell_type": "code",
   "execution_count": 25,
   "metadata": {},
   "outputs": [
    {
     "name": "stdout",
     "output_type": "stream",
     "text": [
      "     he111111o python          \n"
     ]
    }
   ],
   "source": [
    "s = s.replace('ll', '111111') # replace all instances of 'll' with '111111'\n",
    "print(s)\n"
   ]
  },
  {
   "cell_type": "code",
   "execution_count": 27,
   "metadata": {},
   "outputs": [
    {
     "name": "stdout",
     "output_type": "stream",
     "text": [
      "hello\n",
      "python\n"
     ]
    }
   ],
   "source": [
    "print(min('hello', 'python')) # compare strings alphabetically\n",
    "print(max('hello', 'python'))"
   ]
  },
  {
   "cell_type": "code",
   "execution_count": 29,
   "metadata": {},
   "outputs": [
    {
     "name": "stdout",
     "output_type": "stream",
     "text": [
      "['Tom', 'Mike', 'Mary', 'John', 'Jack']\n"
     ]
    }
   ],
   "source": [
    "names = ['Mike', 'John', 'Mary', 'Tom', 'Jack']\n",
    "print(list(sorted(names, reverse=True))) # sort names in reverse alphabetical order"
   ]
  },
  {
   "cell_type": "code",
   "execution_count": 30,
   "metadata": {},
   "outputs": [
    {
     "name": "stdout",
     "output_type": "stream",
     "text": [
      "840987775637\n"
     ]
    }
   ],
   "source": [
    "phone = '+840987775637'\n",
    "phone = phone[1:] # slice off the leading '+'\n",
    "print(phone)"
   ]
  },
  {
   "cell_type": "code",
   "execution_count": 32,
   "metadata": {},
   "outputs": [
    {
     "name": "stdout",
     "output_type": "stream",
     "text": [
      "Invalid email\n"
     ]
    }
   ],
   "source": [
    "email = 'johngmail.com'\n",
    "if '@' in email:            # in can be used to check if a substring is in a string\n",
    "    print('Valid email')\n",
    "else:\n",
    "    print('Invalid email')"
   ]
  },
  {
   "cell_type": "code",
   "execution_count": 33,
   "metadata": {},
   "outputs": [
    {
     "name": "stdout",
     "output_type": "stream",
     "text": [
      "Number of vowels: 7\n"
     ]
    }
   ],
   "source": [
    "s = 'the fox jumps over the dog'\n",
    "count = 0\n",
    "for c in s:\n",
    "    if c in 'aieou':\n",
    "        count += 1\n",
    "print('Number of vowels:', count)"
   ]
  },
  {
   "cell_type": "code",
   "execution_count": 35,
   "metadata": {},
   "outputs": [
    {
     "name": "stdout",
     "output_type": "stream",
     "text": [
      "string contains non-alphanumeric characters\n"
     ]
    }
   ],
   "source": [
    "address = '14 Hoang Dieu, Da Nang, Vietnam'\n",
    "if address.isalnum(): # check if address contains only alphanumeric characters\n",
    "    print('string contains only alphanumeric characters')\n",
    "else:\n",
    "    print('string contains non-alphanumeric characters')"
   ]
  },
  {
   "cell_type": "code",
   "execution_count": 36,
   "metadata": {},
   "outputs": [
    {
     "name": "stdout",
     "output_type": "stream",
     "text": [
      "Strange name\n"
     ]
    }
   ],
   "source": [
    "musk_son = 'X Æ A-12'\n",
    "if musk_son.isalpha(): # check if musk_son contains only alphabetic characters\n",
    "    print('Normal name')\n",
    "else:\n",
    "    print('Strange name')"
   ]
  },
  {
   "cell_type": "code",
   "execution_count": 37,
   "metadata": {},
   "outputs": [
    {
     "name": "stdout",
     "output_type": "stream",
     "text": [
      "All spaces\n"
     ]
    }
   ],
   "source": [
    "spaces = '   '\n",
    "print('All spaces' if spaces.isspace() else 'Not all spaces')"
   ]
  },
  {
   "cell_type": "code",
   "execution_count": 39,
   "metadata": {},
   "outputs": [
    {
     "name": "stdout",
     "output_type": "stream",
     "text": [
      "All upper\n",
      "All lower\n"
     ]
    }
   ],
   "source": [
    "print('All upper' if 'HELLO12'.isupper() else 'Not all upper')\n",
    "print('All lower' if 'hello1w'.islower() else 'Not all lower')"
   ]
  },
  {
   "cell_type": "code",
   "execution_count": 42,
   "metadata": {},
   "outputs": [
    {
     "name": "stdout",
     "output_type": "stream",
     "text": [
      "Where to find fox: 14\n",
      "Where to find dog: -1\n"
     ]
    }
   ],
   "source": [
    "s = 'A quick brown fox jumps over the lazy fox'\n",
    "pos = s.find('fox') # find the first position of 'fox' in s\n",
    "print('Where to find fox:', pos)\n",
    "pos = s.find('dog')\n",
    "print('Where to find dog:', pos) # if string not found, find() returns -1"
   ]
  },
  {
   "cell_type": "code",
   "execution_count": 43,
   "metadata": {},
   "outputs": [
    {
     "name": "stdout",
     "output_type": "stream",
     "text": [
      "s does not start with fox\n",
      "s ends with fox\n"
     ]
    }
   ],
   "source": [
    "if s.startswith('fox'): # check if s starts with 'fox'\n",
    "    print('s starts with fox')\n",
    "else:\n",
    "    print('s does not start with fox')\n",
    "\n",
    "if s.endswith('fox'): # check if s ends with 'fox'\n",
    "    print('s ends with fox')\n",
    "else:\n",
    "    print('s does not end with fox')"
   ]
  },
  {
   "cell_type": "code",
   "execution_count": 44,
   "metadata": {},
   "outputs": [
    {
     "name": "stdout",
     "output_type": "stream",
     "text": [
      "Number of fox in s: 2\n"
     ]
    }
   ],
   "source": [
    "print('Number of fox in s:', s.count('fox')) # count the number of occurrences of 'fox' in s"
   ]
  },
  {
   "cell_type": "code",
   "execution_count": 45,
   "metadata": {},
   "outputs": [
    {
     "name": "stdout",
     "output_type": "stream",
     "text": [
      "A Quick Brown Fox Jumps Over The Lazy Fox\n",
      "A Quick Brown Fox Jumps Over The Lazy Fox\n"
     ]
    }
   ],
   "source": [
    "s = '   A quick brown fox jumps over the lazy fox        '\n",
    "s1 = s.lstrip()  # remove leading and whitespace\n",
    "s2 = s1.rstrip() # remove trailing whitespace\n",
    "s3 = s2.title()  # convert s2 to title case\n",
    "print(s3)\n",
    "s4 = s.lstrip().rstrip().title() # remove leading and trailing whitespace, convert to title case\n",
    "print(s4)"
   ]
  },
  {
   "cell_type": "code",
   "execution_count": 46,
   "metadata": {},
   "outputs": [
    {
     "name": "stdout",
     "output_type": "stream",
     "text": [
      "7 abc ??&(*&( bde 1234\n"
     ]
    }
   ],
   "source": [
    "# Sting processing example: remove special characters from a string\n",
    "s = '!!7 abc !!??&(*&( bde 1234,. xyz,<>'\n",
    "# remove '!'\n",
    "s = s.replace('!', '')\n",
    "print(s)"
   ]
  },
  {
   "cell_type": "code",
   "execution_count": 47,
   "metadata": {},
   "outputs": [
    {
     "name": "stdout",
     "output_type": "stream",
     "text": [
      "!\"#$%&'()*+,-./:;<=>?@[\\]^_`{|}~\n"
     ]
    }
   ],
   "source": [
    "from string import punctuation\n",
    "print(punctuation) # print all punctuation characters"
   ]
  },
  {
   "cell_type": "code",
   "execution_count": 48,
   "metadata": {},
   "outputs": [
    {
     "name": "stdout",
     "output_type": "stream",
     "text": [
      "7 abc  bde 1234\n"
     ]
    }
   ],
   "source": [
    "for c in punctuation:\n",
    "    s = s.replace(c, '') # remove all punctuation characters\n",
    "print(s)"
   ]
  },
  {
   "cell_type": "code",
   "execution_count": 52,
   "metadata": {},
   "outputs": [
    {
     "name": "stdout",
     "output_type": "stream",
     "text": [
      "['hello', 'python', 'world']\n",
      "hello python world\n"
     ]
    }
   ],
   "source": [
    "s = 'hello      python     world'\n",
    "# remove whitespaces in the middle of the string\n",
    "words = s.split() # split s into a list of words\n",
    "print(words)\n",
    "s = ' '.join(words) # join words into a string\n",
    "print(s)"
   ]
  },
  {
   "cell_type": "code",
   "execution_count": 53,
   "metadata": {},
   "outputs": [
    {
     "name": "stdout",
     "output_type": "stream",
     "text": [
      "Number of words: 9\n"
     ]
    }
   ],
   "source": [
    "s = 'A quick brown fox jumps over the lazy fox'\n",
    "print('Number of words:', len(s.split())) # count the number of words in s"
   ]
  },
  {
   "cell_type": "code",
   "execution_count": 61,
   "metadata": {},
   "outputs": [],
   "source": [
    "long_string = 'Lorem ipsum dolor sit amet, consectetur adipiscing elit. Pellentesque congue enim quis viverra venenatis. Sed mattis massa eu pretium egestas. Aenean luctus erat eget dui fringilla, ut lobortis arcu efficitur. Donec scelerisque fringilla enim, gravida dictum lorem finibus eu. In hac habitasse platea dictumst. Aliquam erat volutpat. Vestibulum id blandit lorem. Nullam consectetur vestibulum risus. Curabitur molestie nec urna eget fermentum. Maecenas mattis, nibh at mollis volutpat, urna magna ornare est, id auctor est quam vel ante. In congue nulla et ante rhoncus, at bibendum odio rhoncus. Cras lectus urna, eleifend iaculis feugiat at, malesuada a odio. Integer fringilla diam eget blandit cursus. Cras malesuada venenatis est non dignissim. Sed ac consequat risus. Duis sodales turpis tortor, non dictum nibh volutpat ut. Quisque suscipit elit ac nibh ultricies, quis iaculis quam ultrices. Ut vel erat ante. Maecenas malesuada, urna a auctor venenatis, quam ex rutrum risus, vel pellentesque risus diam non dui. Quisque finibus venenatis neque non consequat. Donec vestibulum, quam eget viverra condimentum, elit est pulvinar justo, non finibus massa enim at lacus. Nunc volutpat nisi ac augue fringilla egestas. Duis consequat mi dui, ut blandit orci vulputate pharetra. Integer eleifend, mi id lobortis faucibus, mauris elit bibendum leo, in pretium nibh dolor id est. Duis dapibus laoreet mattis. \\\n",
    "    Aliquam eget consectetur nunc. Proin iaculis orci nec mollis congue. Duis iaculis lectus in sem scelerisque auctor. Aenean vestibulum varius erat quis laoreet. Vestibulum bibendum ut dui eu suscipit. Ut id metus porta, malesuada libero vitae, placerat augue. Aenean semper viverra tempus. Nulla a arcu at ipsum iaculis varius. Integer sit amet magna metus. Nam scelerisque enim ac gravida posuere. Sed cursus metus quis est ullamcorper, ac ullamcorper velit cursus. Sed placerat nunc sit amet turpis ultricies accumsan. Onec at purus felis. Maecenas sagittis ultrices ante vel ornare. Fusce facilisis tortor eu enim aliquam, id gravida purus posuere. Phasellus molestie nulla orci, nec mollis nibh venenatis a. Quisque sed interdum velit, eget dapibus odio. Ut est nisi, accumsan ac justo non, aliquam vulputate purus. Maecenas tincidunt, dui eget mattis dapibus, neque lacus egestas ante, a accumsan neque enim vel lacus. Aenean placerat nisl ut erat consequat, sed interdum diam finibus. Pellentesque ut sem nec orci tristique rutrum a nec magna. Morbi faucibus luctus justo id pretium. Ut efficitur nibh sit amet gravida pellentesque. Sed a tincidunt erat. Nulla molestie tortor non odio viverra, in fermentum enim maximus. Vestibulum faucibus aliquam convallis. Fusce leo est, sodales consectetur auctor at, euismod quis tortor. Ut hendrerit sem risus, sit amet mattis lorem commodo in. Aenean id mauris sed ipsum malesuada molestie nec eu mauris. Nulla sem ligula, suscipit at est ac, feugiat vehicula nibh. Suspendisse metus nisi, semper ac lacus a, euismod tristique massa. Duis eu mi ultricies, vestibulum nisi eu, blandit tortor. Lorem ipsum dolor sit amet, consectetur adipiscing elit. Nunc id nibh neque. In blandit ante mauris, in dignissim libero euismod id. Morbi ut lacus tortor.'"
   ]
  },
  {
   "cell_type": "code",
   "execution_count": 62,
   "metadata": {},
   "outputs": [
    {
     "name": "stdout",
     "output_type": "stream",
     "text": [
      "Number of characters: 3208\n",
      "Number of letters: 3101\n",
      "Number of words: 485\n"
     ]
    }
   ],
   "source": [
    "# count number of characters in long_string\n",
    "print('Number of characters:', len(long_string))\n",
    "# count number of letters in long_string\n",
    "for c in punctuation:\n",
    "    long_string = long_string.replace(c, '')\n",
    "print('Number of letters:', len(long_string))\n",
    "# count number of words in long_string\n",
    "print('Number of words:', len(long_string.split()))"
   ]
  },
  {
   "cell_type": "code",
   "execution_count": 68,
   "metadata": {},
   "outputs": [
    {
     "name": "stdout",
     "output_type": "stream",
     "text": [
      "3\n"
     ]
    }
   ],
   "source": [
    "# Dictinary example\n",
    "address_book = {'John': '0123456789', 'Mary': '9876543210', 'Peter': '1234567890'}\n",
    "print(len(address_book)) # print number of entries in the dictionary"
   ]
  },
  {
   "cell_type": "code",
   "execution_count": 65,
   "metadata": {},
   "outputs": [
    {
     "name": "stdout",
     "output_type": "stream",
     "text": [
      "{'John': '0123456789', 'Mary': '9876543210', 'Peter': '1234567890'}\n"
     ]
    }
   ],
   "source": [
    "print(address_book)"
   ]
  },
  {
   "cell_type": "code",
   "execution_count": 71,
   "metadata": {},
   "outputs": [
    {
     "name": "stdout",
     "output_type": "stream",
     "text": [
      "Paul is not in the address book\n"
     ]
    }
   ],
   "source": [
    "name = input('Enter name: ')\n",
    "if name in address_book:\n",
    "    print(f'{name}\\'s phone number is {address_book[name]}')\n",
    "else:\n",
    "    print(f'{name} is not in the address book')"
   ]
  },
  {
   "cell_type": "code",
   "execution_count": 69,
   "metadata": {},
   "outputs": [
    {
     "name": "stdout",
     "output_type": "stream",
     "text": [
      "John: 0123456789\n",
      "Mary: 9876543210\n",
      "Peter: 1234567890\n"
     ]
    }
   ],
   "source": [
    "# Use for loop to print all entries in the dictionary\n",
    "for name, phone in address_book.items():\n",
    "    print(f'{name}: {phone}')"
   ]
  },
  {
   "cell_type": "code",
   "execution_count": 75,
   "metadata": {},
   "outputs": [
    {
     "name": "stdout",
     "output_type": "stream",
     "text": [
      "Mike is added to the address book\n",
      "{'John': '0123456789', 'Mary': '9876543210', 'Peter': '1234567890', 'Paul': 'aaaaa', 'Mike': '0787683434'}\n"
     ]
    }
   ],
   "source": [
    "name = input('Enter new name: ')\n",
    "phone = input('Enter phone number: ')\n",
    "# add new item to the dictionary\n",
    "if name in address_book:\n",
    "    print(f'{name} is already in the address book')\n",
    "else:\n",
    "    address_book[name] = phone\n",
    "    print(f'{name} is added to the address book')\n",
    "print(address_book)"
   ]
  },
  {
   "cell_type": "code",
   "execution_count": 78,
   "metadata": {},
   "outputs": [
    {
     "name": "stdout",
     "output_type": "stream",
     "text": [
      "Failed students:\n",
      "Mary\n",
      "Jane\n",
      "Merit students:\n",
      "John\n",
      "Peter\n",
      "Alice\n",
      "Number of merit students: 3\n"
     ]
    }
   ],
   "source": [
    "student_grades = {'John': 90, 'Mary': 30, 'Peter': 77, 'Jane': 35, 'Tom': 57, 'Alice': 84, 'Bob': 60}\n",
    "# Print failed students (grade < 40)\n",
    "print('Failed students:')\n",
    "for student, grade in student_grades.items():\n",
    "    if grade < 40:\n",
    "        print(student)\n",
    "\n",
    "# Print & count merit students (grade > 65)\n",
    "merit_count = 0\n",
    "print('Merit students:')\n",
    "for student, grade in student_grades.items():\n",
    "    if grade > 65:\n",
    "        print(student)\n",
    "        merit_count += 1\n",
    "\n",
    "print('Number of merit students:', merit_count)"
   ]
  },
  {
   "cell_type": "code",
   "execution_count": 80,
   "metadata": {},
   "outputs": [
    {
     "name": "stdout",
     "output_type": "stream",
     "text": [
      "Invalid names:\n",
      "John! 0123456789\n",
      "P8ter 1234567890\n",
      "Invalid phone numbers:\n",
      "Mary 98765432l0\n",
      "Mike 01234567aa\n",
      "Paul ??3456789\n"
     ]
    }
   ],
   "source": [
    "address_book = {'John!': '0123456789', 'Mary': '98765432l0', 'P8ter': '1234567890',\n",
    "                'Mike': '01234567aa', 'Jane': '9876543210', 'Paul': '??3456789'}\n",
    "# valid name: contains only letters\n",
    "# find invalid names\n",
    "print('Invalid names:')\n",
    "for name, phone in address_book.items():\n",
    "    if not name.isalpha():\n",
    "        print(name, phone)\n",
    "# find invalid phone (contains non-digit characters)\n",
    "print('Invalid phone numbers:')\n",
    "for name, phone in address_book.items():\n",
    "    if not phone.isdigit():\n",
    "        print(name, phone)"
   ]
  },
  {
   "cell_type": "code",
   "execution_count": 81,
   "metadata": {},
   "outputs": [
    {
     "name": "stdout",
     "output_type": "stream",
     "text": [
      "{'John!': '0123456789', 'Mary': '98765432l0', 'P8ter': '1234567890', 'Mike': '01234567aa', 'Jane': '9876543210', 'Paul': '??3456789'}\n",
      "{'John!': '0123456789', 'P8ter': '1234567890', 'Mike': '01234567aa', 'Jane': '9876543210', 'Paul': '??3456789'}\n"
     ]
    }
   ],
   "source": [
    "print(address_book)\n",
    "# Remove items from dictionary\n",
    "ex_girlfriend = 'Mary'\n",
    "address_book.pop(ex_girlfriend)\n",
    "print(address_book)"
   ]
  },
  {
   "cell_type": "code",
   "execution_count": 86,
   "metadata": {},
   "outputs": [
    {
     "name": "stdout",
     "output_type": "stream",
     "text": [
      "a: 226\n",
      "b: 44\n",
      "c: 113\n",
      "d: 75\n",
      "e: 294\n",
      "f: 23\n",
      "g: 37\n",
      "h: 16\n",
      "i: 258\n",
      "j: 3\n",
      "k: 0\n",
      "l: 137\n",
      "m: 117\n",
      "n: 163\n",
      "o: 106\n",
      "p: 43\n",
      "q: 34\n",
      "r: 142\n",
      "s: 223\n",
      "t: 215\n",
      "u: 240\n",
      "v: 40\n",
      "w: 0\n",
      "x: 2\n",
      "y: 0\n",
      "z: 0\n"
     ]
    }
   ],
   "source": [
    "# Example: count frequency of letters in a string\n",
    "# Use dictionary to store the frequency of each letter\n",
    "az = 'abcdefghijklmnopqrstuvwxyz'\n",
    "letter_freq = {} # empty dictionary\n",
    "for c in az:\n",
    "    letter_freq[c] = 0 # initialize all letters frequency to 0\n",
    "for c in long_string:\n",
    "    if c in az:\n",
    "        letter_freq[c] += 1\n",
    "\n",
    "for c, freq in letter_freq.items():\n",
    "    print(f'{c}: {freq}')"
   ]
  },
  {
   "cell_type": "code",
   "execution_count": 87,
   "metadata": {},
   "outputs": [
    {
     "name": "stdout",
     "output_type": "stream",
     "text": [
      "2\n"
     ]
    }
   ],
   "source": [
    "str1=\"Rajathi Raja\"\n",
    "\n",
    "print(str1.count('Raja'))"
   ]
  },
  {
   "cell_type": "code",
   "execution_count": 88,
   "metadata": {},
   "outputs": [
    {
     "name": "stdout",
     "output_type": "stream",
     "text": [
      "False\n"
     ]
    }
   ],
   "source": [
    "str1='Save Soil'\n",
    "\n",
    "print(str1.isalnum( ))"
   ]
  },
  {
   "cell_type": "code",
   "execution_count": 89,
   "metadata": {},
   "outputs": [
    {
     "name": "stdout",
     "output_type": "stream",
     "text": [
      "valluvar\n"
     ]
    }
   ],
   "source": [
    "saint=\"Thiruvalluvar\"\n",
    "\n",
    "print(saint[5:])"
   ]
  }
 ],
 "metadata": {
  "kernelspec": {
   "display_name": "Python 3.9.12 64-bit",
   "language": "python",
   "name": "python3"
  },
  "language_info": {
   "codemirror_mode": {
    "name": "ipython",
    "version": 3
   },
   "file_extension": ".py",
   "mimetype": "text/x-python",
   "name": "python",
   "nbconvert_exporter": "python",
   "pygments_lexer": "ipython3",
   "version": "3.9.12"
  },
  "orig_nbformat": 4,
  "vscode": {
   "interpreter": {
    "hash": "aee8b7b246df8f9039afb4144a1f6fd8d2ca17a180786b69acc140d282b71a49"
   }
  }
 },
 "nbformat": 4,
 "nbformat_minor": 2
}
