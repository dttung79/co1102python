{
 "cells": [
  {
   "cell_type": "code",
   "execution_count": 7,
   "metadata": {},
   "outputs": [
    {
     "name": "stdout",
     "output_type": "stream",
     "text": [
      "* * * * * * * * * * \n"
     ]
    }
   ],
   "source": [
    "def print_line(n):\n",
    "    for i in range(n):\n",
    "        print(\"* \", end=\"\")\n",
    "    print()\n",
    "\n",
    "print_line(10)"
   ]
  },
  {
   "cell_type": "code",
   "execution_count": 8,
   "metadata": {},
   "outputs": [
    {
     "name": "stdout",
     "output_type": "stream",
     "text": [
      "* \n",
      "* * \n",
      "* * * \n",
      "* * * * \n",
      "* * * * * \n"
     ]
    }
   ],
   "source": [
    "n = 5\n",
    "for i in range(1, n+1):\n",
    "    print_line(i)"
   ]
  },
  {
   "cell_type": "code",
   "execution_count": 21,
   "metadata": {},
   "outputs": [
    {
     "name": "stdout",
     "output_type": "stream",
     "text": [
      "@ @ @ @ @ \n",
      "@ @ @ @ \n",
      "@ @ @ \n",
      "@ @ \n",
      "@ \n"
     ]
    }
   ],
   "source": [
    "def print_line(n, c):\n",
    "    print((c + ' ') * n, end='')\n",
    "\n",
    "def print_triangle(n_lines, mode, c):\n",
    "    if mode == 'normal':\n",
    "        for i in range(1, n_lines+1):\n",
    "            print_line(i, c)\n",
    "            print()\n",
    "    elif mode == 'reversed':\n",
    "        for i in range(1, n_lines+1):\n",
    "            # print n-i empty spaces\n",
    "            print_line(n_lines-i, ' ')\n",
    "            # print i asterisks\n",
    "            print_line(i, c)\n",
    "            print()\n",
    "    elif mode == 'bottomup':\n",
    "        for i in range(n_lines, 0, -1):\n",
    "            print_line(i, c)\n",
    "            print()\n",
    "            \n",
    "#print_triangle(6, 'normal')\n",
    "print_triangle(5, 'bottomup', '@')"
   ]
  },
  {
   "cell_type": "code",
   "execution_count": 25,
   "metadata": {},
   "outputs": [],
   "source": [
    "def is_prime(n):\n",
    "    if n < 2:\n",
    "        return False\n",
    "\n",
    "    for i in range(2, int(n**0.5) + 1):\n",
    "        if n % i == 0:\n",
    "            return False\n",
    "    return True"
   ]
  },
  {
   "cell_type": "code",
   "execution_count": 30,
   "metadata": {},
   "outputs": [
    {
     "name": "stdout",
     "output_type": "stream",
     "text": [
      "  2   3   5   7  11  13  17  19 \n",
      " 23  29  31  37  41  43  47  53 \n",
      " 59  61  67  71  73  79  83  89 \n",
      " 97 "
     ]
    }
   ],
   "source": [
    "def print_primes(n, m):\n",
    "    counter = 0\n",
    "    for i in range(2, n):\n",
    "        if is_prime(i):\n",
    "            counter = counter + 1\n",
    "            print('{:3d}'.format(i), end=' ')\n",
    "            if counter % m == 0:\n",
    "                print()\n",
    "\n",
    "print_primes(100, 8)"
   ]
  },
  {
   "cell_type": "code",
   "execution_count": 38,
   "metadata": {},
   "outputs": [
    {
     "name": "stdout",
     "output_type": "stream",
     "text": [
      "Outside n = 10\n",
      "Inside n = 10\n",
      "Outside n = 10\n"
     ]
    }
   ],
   "source": [
    "n = 10\n",
    "print('Outside n =', n)\n",
    "\n",
    "def test_scope():\n",
    "    #n = 5\n",
    "    print('Inside n =', n)\n",
    "\n",
    "test_scope()\n",
    "\n",
    "print('Outside n =', n)"
   ]
  },
  {
   "cell_type": "code",
   "execution_count": 40,
   "metadata": {},
   "outputs": [],
   "source": [
    "def test_parmater_scope(n):\n",
    "    print('Before change: n =', n)\n",
    "    n = n * 2\n",
    "    print('After change: n =', n)"
   ]
  },
  {
   "cell_type": "code",
   "execution_count": 41,
   "metadata": {},
   "outputs": [
    {
     "name": "stdout",
     "output_type": "stream",
     "text": [
      "Outside n = 10\n",
      "Before change: n = 10\n",
      "After change: n = 20\n",
      "Outside n = 10\n"
     ]
    }
   ],
   "source": [
    "n = 10\n",
    "print('Outside n =', n)\n",
    "test_parmater_scope(n)\n",
    "print('Outside n =', n)"
   ]
  },
  {
   "cell_type": "code",
   "execution_count": null,
   "metadata": {},
   "outputs": [],
   "source": [
    "# Parameter types: positional argments & keyword arguments"
   ]
  },
  {
   "cell_type": "code",
   "execution_count": null,
   "metadata": {},
   "outputs": [],
   "source": [
    "# def print_line(n, c):\n",
    "#     print((c + ' ') * n, end='')\n",
    "\n",
    "def print_line(n, c='*'):\n",
    "    print((c + ' ') * n, end='')\n",
    "    \n",
    "# Call print_line, passing 1 value\n",
    "print_line(4)\n",
    "print_line(10, '?')\n",
    "# print_line('?', 10) => error!"
   ]
  },
  {
   "cell_type": "code",
   "execution_count": 46,
   "metadata": {},
   "outputs": [],
   "source": [
    "def print_triangle(n_lines, mode='normal', c='*'):\n",
    "    if mode == 'normal':\n",
    "        for i in range(1, n_lines+1):\n",
    "            print_line(i, c)\n",
    "            print()\n",
    "    elif mode == 'reversed':\n",
    "        for i in range(1, n_lines+1):\n",
    "            # print n-i empty spaces\n",
    "            print_line(n_lines-i, ' ')\n",
    "            # print i asterisks\n",
    "            print_line(i, c)\n",
    "            print()\n",
    "    elif mode == 'bottomup':\n",
    "        for i in range(n_lines, 0, -1):\n",
    "            print_line(i, c)\n",
    "            print()"
   ]
  },
  {
   "cell_type": "code",
   "execution_count": 50,
   "metadata": {},
   "outputs": [],
   "source": [
    "# print_triangle(5)\n",
    "print_triangle(5, '?', 'reversed')"
   ]
  },
  {
   "cell_type": "code",
   "execution_count": 51,
   "metadata": {},
   "outputs": [],
   "source": [
    "import turtle as t\n",
    "# Write a function that draw a regular polygon of n sides\n",
    "def draw_polygon(n_sides, length=100, color='red', pen_size=1):\n",
    "    if  n_sides <= 2 or n_sides >= 10:\n",
    "        print('Invalid number of sides')\n",
    "        exit()\n",
    "\n",
    "    t.pensize(pen_size)\n",
    "    t.color(color)\n",
    "\n",
    "    for i in range(n_sides):\n",
    "        t.forward(length)\n",
    "        t.left(360 / n_sides)\n",
    "\n",
    "# Write a function that draw n regular polygons of m sides\n",
    "def draw_polygons(n_polygons, n_sides, length=100, color='red', pen_size=1):\n",
    "    for i in range(n_polygons):\n",
    "        draw_polygon(n_sides, length, color, pen_size)\n",
    "        t.left(360 / n_polygons)"
   ]
  },
  {
   "cell_type": "code",
   "execution_count": 52,
   "metadata": {},
   "outputs": [
    {
     "ename": "",
     "evalue": "",
     "output_type": "error",
     "traceback": [
      "\u001b[1;31mThe Kernel crashed while executing code in the the current cell or a previous cell. Please review the code in the cell(s) to identify a possible cause of the failure. Click <a href='https://aka.ms/vscodeJupyterKernelCrash'>here</a> for more info. View Jupyter <a href='command:jupyter.viewOutput'>log</a> for further details."
     ]
    }
   ],
   "source": [
    "draw_polygons(3, 3)\n",
    "t.exitonclick()"
   ]
  }
 ],
 "metadata": {
  "kernelspec": {
   "display_name": "Python 3.9.12 64-bit",
   "language": "python",
   "name": "python3"
  },
  "language_info": {
   "codemirror_mode": {
    "name": "ipython",
    "version": 3
   },
   "file_extension": ".py",
   "mimetype": "text/x-python",
   "name": "python",
   "nbconvert_exporter": "python",
   "pygments_lexer": "ipython3",
   "version": "3.9.12"
  },
  "orig_nbformat": 4,
  "vscode": {
   "interpreter": {
    "hash": "aee8b7b246df8f9039afb4144a1f6fd8d2ca17a180786b69acc140d282b71a49"
   }
  }
 },
 "nbformat": 4,
 "nbformat_minor": 2
}
